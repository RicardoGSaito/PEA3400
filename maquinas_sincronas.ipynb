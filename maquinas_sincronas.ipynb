{
  "cells": [
    {
      "cell_type": "markdown",
      "metadata": {
        "id": "egIlWRNYMlma"
      },
      "source": [
        "# Máquinas Síncronas"
      ]
    },
    {
      "cell_type": "markdown",
      "metadata": {
        "id": "e7CTsmKxMHQK"
      },
      "source": [
        "## Introdução"
      ]
    },
    {
      "cell_type": "markdown",
      "metadata": {
        "id": "L3SNxncMMsWS"
      },
      "source": [
        "### Operações\n",
        "\n",
        "i. Motor $\\rightarrow$ Grande potência.\n",
        "\n",
        "ii. Gerador $\\rightarrow$ Modo mais comum, alternador síncrono trifásico."
      ]
    },
    {
      "cell_type": "markdown",
      "metadata": {
        "id": "Frr9bEDrMHQM"
      },
      "source": [
        "### Topologia do circuito magnético\n",
        "\n",
        "i. Polos salientes $\\rightarrow$\n",
        "\n",
        "i.i. Muitos polos, baixa rotação e alta potência. $\\frac{D}{L} >> 1$ (eixo vertical)\n",
        "\n",
        "i.ii. Poucos polos, rotações médias, potências baixas a médias.\n",
        "\n",
        "ii. Polos lisos $\\rightarrow$\n",
        "\n",
        "ii.i. Número bastante reduzido de polos, elevada rotação, potências elevadas. $\\frac{D}{L} << 1$ (eixo horizontal)"
      ]
    },
    {
      "cell_type": "markdown",
      "metadata": {
        "id": "yBleKcndMHQN"
      },
      "source": [
        "### Aspectos construtivos\n",
        "\n",
        "i. Estator (induzido) $\\rightarrow$\n",
        "\n",
        "i.i. Cilindro com ranhuras para alojar bobinas.\n",
        "\n",
        "i.ii. Núcleo feito de material ferromagnético de alta permeabilidade.\n",
        "\n",
        "i.iii. Bobinas alojadas em cada ranhura.\n",
        "\n",
        "ii. Rotor (indutor) $\\rightarrow$\n",
        "\n",
        "ii.i. Polos salientes $\\rightarrow$\n",
        "\n",
        "ii.i.i. Enrolamento de excitação (bobina com corrente CC para gerar um campo magnético).\n",
        "\n",
        "ii.i.ii. Peças polares engastadas em uma roda polar no caso de vários polos.\n",
        "\n",
        "ii.ii. Polos lisos $\\rightarrow$\n",
        "\n",
        "ii.ii.i. A mesma coisa, só que sem as peças polares."
      ]
    },
    {
      "cell_type": "markdown",
      "metadata": {
        "id": "hjHFakmf1fko"
      },
      "source": [
        "## Operação em vazio\n",
        "\n",
        "i. As bobinas são alimentadas com corrente CC, a corrente de excitação $i_f$.\n",
        "\n",
        "ii. A força gerada por ela ($fmm = N \\cdot i_f$) cria uma distribuição de campo magnético senoidal.\n",
        "\n",
        "iii. Quando o rotor é girado, o campo gira junto.\n",
        "\n",
        "iv. As bobinas do estator vêem um campo variável no tempo e Lei de Faraday."
      ]
    },
    {
      "cell_type": "markdown",
      "metadata": {
        "id": "T88HgwhfMHQP"
      },
      "source": [
        "### Formação do campo magnético cossenoidal (polos salientes)\n",
        "\n",
        "Antes de falar disso, vamos definir ângulo elétrico:\n",
        "\n",
        "$\\theta = p \\cdot \\theta_g$\n",
        "\n",
        "Em que $p$ é o número de pares de polos. Pronto.\n",
        "\n",
        "$\n",
        "fmm = N \\cdot i_f \\\\\n",
        "\\mathscr{R}_g(\\theta) = \\frac{l_g(\\theta)}{\\mu_0 S_p} \\\\\n",
        "$\n",
        "\n",
        "Sendo $S_p = \\tau_p L$ a superfície polar e $\\tau_p = \\frac{\\pi D}{2p}$ o passo polar.\n",
        "\n",
        "Já o fluxo magnetico será dado por\n",
        "\n",
        "$\n",
        "\\Phi = \\frac{fmm}{\\mathscr{R}_g(\\theta)} = \\frac{N \\cdot i_f \\mu_0 S_p}{l_g(\\theta)} \\\\\n",
        "\\Phi = B_g(\\theta) S_p \\\\\n",
        "\\therefore B_g(\\theta) = \\frac{N \\cdot i_f \\mu_0}{l_g(\\theta)} \\\\\n",
        "$\n",
        "\n",
        "Para que $B_g(\\theta)$ seja siga uma distribuição cossenoidal, é preciso que $l_g(\\theta) = \\frac{l_{g0}}{\\cos(\\theta)}$. Nesse caso, teremos\n",
        "\n",
        "$\n",
        "B_g(\\theta) = \\frac{N \\cdot i_f \\mu_0}{l_{g0}} \\cos(\\theta) \\\\\n",
        "B_g(\\theta) = B_{g_{max}} \\cos(\\theta) \\\\\n",
        "$\n",
        "\n",
        "Observe que $B_{g_{max}} = f(i_f)$"
      ]
    },
    {
      "cell_type": "markdown",
      "metadata": {
        "id": "hEUkIGFqMHQP"
      },
      "source": [
        "### Formação do campo magnético cossenoidal (polos lisos)\n",
        "\n",
        "Esse caso é parecido com o outro, com algumas diferenças:\n",
        "\n",
        "i. A mais óbvia é que a relutância é constante ($l_g = cte$).\n",
        "\n",
        "ii. Por algum motivo $N = N(\\theta)$\n",
        "\n",
        "Seguindo os mesmos passos para o caso de polos salientes, teremos que\n",
        "\n",
        "$\n",
        "fmm = N(\\theta) \\cdot i_f \\\\\n",
        "\\mathscr{R}_g = \\frac{l_g}{\\mu_0 S_p} = cte \\\\\n",
        "$\n",
        "\n",
        "Novamente, $S_p = \\tau_p L$ é a superfície polar e $\\tau_p = \\frac{\\pi D}{2p}$ é o passo polar.\n",
        "\n",
        "Já o fluxo magnético será dado por\n",
        "\n",
        "$\n",
        "\\Phi = \\frac{fmm}{\\mathscr{R}_g} = \\frac{N(\\theta) \\cdot i_f \\mu_0 S_p}{l_g} \\\\\n",
        "\\Phi = B_g(\\theta) S_p \\\\\n",
        "\\therefore B_g(\\theta) = \\frac{N(\\theta) \\cdot i_f \\mu_0}{l_g} \\\\\n",
        "$\n",
        "\n",
        "Para que $B_g(\\theta)$ seja siga uma distribuição cossenoidal, é preciso que $N(\\theta) = N \\cos(\\theta)$. Nesse caso, teremos\n",
        "\n",
        "$\n",
        "B_g(\\theta) = \\frac{N \\cdot i_f \\mu_0}{l_g} \\cos(\\theta) \\\\\n",
        "B_g(\\theta) = B_{g_{max}} \\cos(\\theta) \\\\\n",
        "$\n",
        "\n",
        "Observe, novamente, que $B_{g_{max}} = f(i_f)$"
      ]
    },
    {
      "cell_type": "markdown",
      "metadata": {
        "id": "WXsA-pSdMHQQ"
      },
      "source": [
        "### Geração de tensão na máquina síncrona\n",
        "\n",
        "Efeito mocional:\n",
        "\n",
        "$de = d \\vec{L} \\cdot \\vec{v} \\times \\vec{B_g} \\implies e = B_g L v$\n",
        "\n",
        "Além disso, utilizando o fato de que $\\frac{d \\theta}{dt} = p \\frac{d \\theta_g}{dt}$, chegamos à conclusão que $\\omega = p 2 \\pi n_s$\n",
        "\n",
        "Obviamente, as pontas das bobinas encontram-se na parte mais periférica, logo a velocidade será $v_s = \\pi D n_s$\n",
        "\n",
        "Com isso, a tensão induzida nas pontas de cada fio da bobina será:\n",
        "\n",
        "$e_c = B_g L v_s$\n",
        "\n",
        "Portanto, a tensão induzida em cada bobina será:\n",
        "\n",
        "$\n",
        "E = 2 N e_c = 2 N B_g L v_s \\\\\n",
        "E = E(\\theta) = (2 N B_{g_{max}} L v_s) \\cos(\\theta) \\\\\n",
        "\\therefore E(\\theta) = E_{max} \\cos(\\theta) \\\\\n",
        "$\n",
        "\n",
        "Sendo $E_{max} = 2 N B_{g_{max}} L \\pi D n_s$\n",
        "\n",
        "Um detalhe é que $E(\\omega t) \\leftrightarrow B(\\theta) \\implies E(\\omega t) = E(\\theta)$, ou seja, a distribuição do campo magnético no espaço determina o formato da tensão no tempo.\n",
        "\n",
        "Além disso, a tensão será máxima quando as duas pontas da bobina tiverem $B_{g_{max}}$, ou seja, quando $B(\\theta)$ estiver a $90^{\\circ}$ do eixo da bobina. Portanto\n",
        "\n",
        "$\n",
        "E(\\omega t) = E(\\frac{\\pi}{2} - \\theta) \\\\\n",
        "E(\\omega t) = (2 N B_{g_{max}} L \\pi D n_s) \\sin(\\omega t) \\\\\n",
        "$\n",
        "\n",
        "Além disso, é evidente que\n",
        "\n",
        "$\n",
        "E_{max} = 2 N B_{g_{max}} L \\pi D L n_s \\\\\n",
        "E = \\frac{E_{max}}{\\sqrt{2}} \\\\\n",
        "$\n",
        "\n",
        "Levando em conta que $n_s = \\frac{f}{p}$, que $B_{g_{max}} = \\frac{\\pi}{2} B_{g_{med}}$ e que o fluxo por polo é dado por $\\Phi_p = B_{g_{med}} S_p$, teremos\n",
        "\n",
        "$\n",
        "E = \\frac{2 N B_{g_{max}} \\pi D L n_s}{\\sqrt{2}} \\\\\n",
        "E = \\frac{\\pi}{2} \\frac{f}{p} \\frac{2 N B_{g_{med}} \\pi D L}{\\sqrt{2}} \\\\\n",
        "E = \\sqrt{2} \\pi f N \\Phi_p \\\\\n",
        "$\n",
        "\n",
        "Com $S_p = \\frac{\\pi D L}{2 p}$ sendo a superfície polar. Lembrando que isso é para uma única bobina."
      ]
    },
    {
      "cell_type": "markdown",
      "metadata": {
        "id": "MECa-61rMHQS"
      },
      "source": [
        "### Influência da excitação\n",
        "\n",
        "Lembrando que $B = f(i_f)$, e que $E = f(B)$, fica claro que $E = f(i_f)$.\n",
        "\n",
        "Podemos, em um gráfico $E \\times i_f$, traçar as curvas de entreferro (curva $e'$) e a característica de magnetização (curva $e_0$).\n",
        "\n",
        "Feito isso, para uma tensão $E_0$, podemos obter dois valores de $i_f$: uma da curva de entreferro, $i'_{f_0}$ e uma da característica de magnetização $i_{f_0}$.\n",
        "\n",
        "O fator de saturação $K_s$ será $K_s = \\frac{i_{f_0}}{i'_{f_0}}$"
      ]
    },
    {
      "cell_type": "markdown",
      "metadata": {
        "id": "JmXM5Je4MHQS"
      },
      "source": [
        "### Conteúdo harmônico\n",
        "\n",
        "A distribuição de induções não é perfeitamente senoidal, logo $B(\\theta) = B_1 \\cos(\\theta) + B_3 \\cos(3 \\theta) + B_5 \\cos(5 \\theta) + ... + B_h \\cos(h \\theta)$\n",
        "\n",
        "Dada uma máquina síncrona de $S$ ranhuras no estator, $2 p$ pares de polos e $m$ fases podemos resolver isso, basta realizar:\n",
        "\n",
        "i. Distribuição do enrolamento $\\rightarrow$ Dividir um enrolamento de $N$ espiras em $q$ enrolamentos de $\\frac{N}{q}$ espiras. O fator de distribuição é dado por:\n",
        "\n",
        "$\n",
        "k_{D h} = \\frac{\\sin{q h \\frac{\\Delta}{2}}}{q \\sin{h \\frac{\\Delta}{2}}} \\\\\n",
        "$\n",
        "\n",
        "Com $q = \\frac{S}{2 p m}$ e $\\Delta = \\frac{360^{\\circ} p}{S}$\n",
        "\n",
        "ii. Encurtamento de passo $\\rightarrow$ Colocar o enrolamento algumas ranhuras antes do comprimento de passo pleno. O fator de corda é:\n",
        "\n",
        "$\n",
        "k_{C h} = \\cos(h \\frac{\\delta}{2}) \\\\\n",
        "$\n",
        "\n",
        "Sendo $\\delta = n \\Delta$, $n \\in \\mathbb{N}$\n",
        "\n",
        "Juntando as duas atenuações, teremos o fator de enrolamento:\n",
        "\n",
        "$\n",
        "k_{E h} = k_{D h} \\cdot k_{C h} \\\\\n",
        "$\n",
        "\n",
        "E o conteúdo harmônico é dado por:\n",
        "\n",
        "$\n",
        "v_h = \\frac{\\sum_{h = 3}^{\\infty} E_h k_{E h}}{E_1} = \\sum_{h = 3}^{\\infty} \\frac{k_{E h}}{h} \\\\\n",
        "$"
      ]
    },
    {
      "cell_type": "markdown",
      "metadata": {
        "id": "u0xeIs-OMHQT"
      },
      "source": [
        "## Operação em carga\n",
        "\n",
        "Dada uma máquina tal que\n",
        "\n",
        "$\n",
        "E_a = E_M \\cos(\\omega t) \\\\\n",
        "E_b = E_M \\cos(\\omega t - 120^{\\circ}) \\\\\n",
        "E_c = E_M \\cos(\\omega t - 240^{\\circ}) \\\\\n",
        "$\n",
        "\n",
        "Conectada a uma carga trifásica, teremos\n",
        "\n",
        "$\n",
        "I_a = I_M \\cos(\\omega t - \\varphi) \\\\\n",
        "I_b = I_M \\cos(\\omega t - \\varphi - 120^{\\circ}) \\\\\n",
        "I_c = I_M \\cos(\\omega t - \\varphi - 240^{\\circ}) \\\\\n",
        "$"
      ]
    },
    {
      "cell_type": "markdown",
      "metadata": {
        "id": "dybYpBuiSBtt"
      },
      "source": [
        "### Reação de armadura\n",
        "\n",
        "Sendo $I_M = \\frac{E_M}{Z_c}$. Essas correntes, ao circularem pelo estator, produzirão suas próprias disrtibuições de campo magnético, a reação de armadura.\n",
        "\n",
        "Cada reação de armadura fica centrada na eixo da fase.\n",
        "\n",
        "Cada uma das distribuições é fixa no espaço e variável no tempo.\n",
        "\n",
        "$\n",
        "F_a = F_a(t) \\cos(\\theta) \\\\\n",
        "F_b = F_b(t) \\cos(\\theta - 120^{\\circ}) \\\\\n",
        "F_c = F_c(t) \\cos(\\theta - 240^{\\circ}) \\\\\n",
        "$\n",
        "\n",
        "Sendo\n",
        "\n",
        "$\n",
        "F_a(t) = N I_M \\cos(\\omega t - \\varphi) = F_M \\cos(\\omega t - \\varphi) \\\\\n",
        "F_b(t) = N I_M \\cos(\\omega t - \\varphi - 120^{\\circ}) = F_M \\cos(\\omega t - \\varphi - 120^{\\circ}) \\\\\n",
        "F_c(t) = N I_M \\cos(\\omega t - \\varphi - 240^{\\circ}) = F_M \\cos(\\omega t - \\varphi - 240^{\\circ})\\\\\n",
        "$\n",
        "\n",
        "Utilizando mágica, podemos provar que $F_{res} = F_a + F_b + F_c = \\frac{3}{2} F_M \\cos(\\theta - \\omega t)$\n",
        "\n",
        "Esse campo resultante tem amplitude constante e é móvel no espaço (rotativo no entreferro).\n",
        "\n",
        "Isso resulta em duas distribuições de campo magnético com a mesma velocidade angular $\\omega_s$ dentro da máquina: a produzida pela corrente de excitação $i_f$ e aquela produzida pela reação de armadura. A soma das duas produz um campo resultante líquido.\n",
        "\n",
        "A seguir, analisaremos o campo resultante de acordo com o fator de potência da carga:\n",
        "\n",
        "i. Puramente indutivo $\\rightarrow$ A reação de armadura $B_a$ é antagônica à distribuição do rotor $B_F$.\n",
        "\n",
        "i.i. O campo resultante será $B_R = B_F - B_a < B_F$.\n",
        "\n",
        "i.ii. O efeito é desmagnetizante.\n",
        "\n",
        "i.iii. A tensão em carga $V$ é menor que a tensão em vazio $E_0$.\n",
        "\n",
        "ii. Puramente capacitivo $\\rightarrow$ $B_a$ é concordante com $B_F$.\n",
        "\n",
        "ii.i. $B_R = B_F + B_a > B_F$\n",
        "\n",
        "ii.ii. Efeito magnetizante.\n",
        "\n",
        "ii.iii. $V > E_0$."
      ]
    },
    {
      "cell_type": "markdown",
      "metadata": {
        "id": "iAF8_21TSf_J"
      },
      "source": [
        "### Circuito equivalente\n",
        "\n",
        "O comportamento descrito anteriormente pode ser modelado por uma reatância indutiva $X_s$, conhecida como reatância síncrona. A equação que descreve o circuito equivalente da máquina síncrona é:\n",
        "\n",
        "$\n",
        "\\dot{E_0} = \\dot{V} + j X_s \\dot{I}_a \\\\\n",
        "$\n",
        "\n",
        "Com $\\dot{E}_0$ sendo a fonte equivalente do enrolamento de uma das fases e $\\dot{E}_a = j X_s \\dot{I}_a$ a queda de tensão na reatância síncrona.\n",
        "\n",
        "Além disso, temos dois ângulos importantes:\n",
        "\n",
        "i. $\\varphi$ entre $\\dot{V}$ e $\\dot{I}$, o ângulo do fator de potência.\n",
        "\n",
        "ii. $\\delta$ entre $\\dot{E}_0$ e $V$, o ângulo de potência."
      ]
    },
    {
      "cell_type": "markdown",
      "metadata": {
        "id": "AiIz-sR0qWNC"
      },
      "source": [
        "### Potência desenvolvida e conjugado no eixo da máquina síncrona\n",
        "\n",
        "A potência elétrica ativa fornecida à carga será $P_{el} = V I \\cos(\\varphi)$. No modo gerador $P_{el} > 0$.\n",
        "\n",
        "Observando o diagrama de fasores, é possível observar que $E_0 \\sin(\\delta) = X_s I \\cos(\\varphi)$. Com isso, fica evidente que $P_{el} = \\frac{V E_0}{X_s} \\sin(\\delta)$.\n",
        "\n",
        "Quando $\\delta \\neq 0$, há a manifestação de conjugado no eixo. Esse conjugado é dado por $C_{mec} = k B_f B_R \\sin(\\delta)$, com $B_f = k_1 E_0$, $B_R = k_2 V$ e, obviamente $k = k_1 k_2$.\n",
        "\n",
        "Com isso, fazendo $P_{el} \\approx P_{mec}$, teremos $P_{mec} = C_{mec} \\omega_s \\approx \\frac{3 V E_0}{X_s} \\sin(\\delta)$\n",
        "\n",
        "Logo, teremos que $C_{mec} = \\frac{3 V E_0}{\\omega_s X_s} \\sin(\\delta)$\n",
        "\n",
        "Além disso, se definirmos $B_N = B_R \\sin(\\delta)$, teremos que $B_N = B_a \\sin(\\delta + \\varphi)$. $B_N$ é a componente de $B_R$ (ou $B_a)$ relacionada ao estator. O $N$ é de normal (ao campo do rotor $B_f$).\n",
        "\n",
        "Ao operar no modo motor,\n",
        "\n",
        "i. É claro que $P_{el} < 0$ (é um motor absorvendo potência para funcionar e gerar torque).\n",
        "\n",
        "ii. $B_f$ \"corre atrás\" de $B_R$. Obviamente, a rede fornece a tensão trifásica que induz o campo no estator e o campo do rotor é atraído à ela.\n",
        "\n",
        "iii. $B_f$ atrasado de $B_R$ implica em uma tensão $E_0$ atrasada de $V$."
      ]
    },
    {
      "cell_type": "markdown",
      "metadata": {
        "id": "a0yG4dA3qWNC"
      },
      "source": [
        "### Operação como gerador isolado\n",
        "\n",
        "i. Regulação $\\mathscr{R} = \\frac{E_0 - V}{V}$\n",
        "\n",
        "ii. $V = E_0 \\implies i_f = i_{f_0}$\n",
        "\n",
        "iii. $V = 0 \\implies B_R = 0$. A corrente de curto $I_{CC}$ é puramente indutiva, o que causa o efeito desmagnetizante total. Não há saturação."
      ]
    },
    {
      "cell_type": "markdown",
      "metadata": {
        "id": "aYCav-gbqWNC"
      },
      "source": [
        "### Resumo de gerador síncrono isolado\n",
        "\n",
        "i. Tensão $\\rightarrow$ definida por $i_f$.\n",
        "\n",
        "ii. Frequência $\\rightarrow$ definida pela rotação da turbina $n_s$.\n",
        "\n",
        "iii. $Q \\rightarrow$ fornecida por $i_f$ e definida pela carga.\n",
        "\n",
        "iv. $\\uparrow P$ $\\rightarrow$ até o máximo de rotação que a turbina conseguir sustentar. Após esse limite, há $\\downarrow f$.\n",
        "\n",
        "v. $\\uparrow Q$ $\\rightarrow$ até o limite de $i_f$. Passado esse limite, há $\\downarrow E_0$.\n",
        "\n",
        "vi. Assumiremos que não há perda de sincronismo.\n",
        "\n",
        "vii. Assumiremos que ele operará apenas no modo gerador."
      ]
    },
    {
      "cell_type": "markdown",
      "metadata": {
        "id": "Y8Le5Px9qWNC"
      },
      "source": [
        "### Geradores em paralelo\n",
        "\n",
        "Quando geradores operam em paralelo, a característica $V \\times P$ (ou $f \\times Q$) não é constante. Elas serão duas retas que se intersectam em um ponto, que será o ponto de operação. Assumindo dois geradores $G_1$ e $G_2$ com as referências ($V$ e $f$) iguais e partindo do ponto em que $P_1 = P_2 = \\frac{P_T}{2}$ e $Q_1 = Q_2 = \\frac{Q_T}{2}$, é possível:\n",
        "\n",
        "i. Aumentar a referência de $G_2$ $\\rightarrow$ as cargas $P_2$ e $Q_2$ em $G_2$ ficam maiores, a tensão e a frequência ficam maiores.\n",
        "\n",
        "ii. Aumentando a referência de $G_2$ e diminuindo a de $G_1$ $\\rightarrow$ as cargas $P_2$ e $Q_2$ em $G_2$ ficam maiores, a tensão e a frequência permanecem constantes.\n",
        "\n",
        "iii. Aumentando ambas as referências $\\rightarrow$ a divisão de carga permanece a mesma, mas a frequência e a tensão aumentam.\n",
        "\n",
        "iv. Fazendo $f = f_n$ e $V = V_n$ $\\rightarrow$ as potências aumentam."
      ]
    },
    {
      "cell_type": "markdown",
      "metadata": {
        "id": "1hMimK87qWND"
      },
      "source": [
        "## Determinação das reatâncias síncronas (polos lisos)\n",
        "\n",
        "i. Teremos dois gráficos: $E \\times i_f$ e $I_{CC} \\times i_f$.\n",
        "\n",
        "i.i. $E \\times i_f$ é obtido pelo fato de $E = \\sqrt{2} N B_{g_{max}} \\frac{\\pi D L}{p} f$. Como $B_{g_{max}} = \\frac{N i_f \\mu_0}{l_{g_0}}$, então $E = f(i_f)$.\n",
        "\n",
        "i.ii. $I_{CC} = f(i_f)$, pois $I_{CC} = \\frac{E_0}{X_s}$ e $E_0 = f(i_f)$.\n",
        "\n",
        "ii. Nesses dois gŕaficos, podemos plotar três curvas: $e_0$, $e'$ e $i_{CC}$.\n",
        "\n",
        "iii. Quando $E = E_0$, $e_0^{-1}(E_0) = i_{f_0}$ e $e'^{-1} = i'_{f_0}$. O fator de saturação é dado por $k_s = \\frac{i_{f_0}}{i'_{f_0}}$."
      ]
    },
    {
      "cell_type": "markdown",
      "metadata": {
        "id": "FlVwz1SjqWND"
      },
      "source": [
        "### Reatância síncrona não saturada\n",
        "\n",
        "i. $i'_{f_0} = e'^{-1}(E_0)$\n",
        "\n",
        "ii. $i_{CC}(i'_{f_0}) = I'_{CC}$\n",
        "\n",
        "iii. $X'_s = \\frac{E_0}{I'_{CC}}$\n",
        "\n",
        "iv. Todas as grandezas estão como valores de fase.\n",
        "\n",
        "v. Aqui não importa muito o valor da tensão $E$, tendo em vista que $e'$ e $i_{CC}$ são ambas retas."
      ]
    },
    {
      "cell_type": "markdown",
      "metadata": {
        "id": "jah3ygDdqWND"
      },
      "source": [
        "### Reatância síncrona saturada (aproximada)\n",
        "\n",
        "i. $i_{f_0} = e_0^{-1}(E_0)$\n",
        "\n",
        "ii. $I_{CC} = i_{CC}(i_{f_0})$\n",
        "\n",
        "iii. $\\bar{X}_s = \\frac{E_0}{I_{CC}}$\n",
        "\n",
        "iv. Todas as grandezas estão como valores de fase."
      ]
    },
    {
      "cell_type": "markdown",
      "metadata": {
        "id": "6MTydSc1qWND"
      },
      "source": [
        "### Relação de curto circuito\n",
        "\n",
        "i. $i_{f_0} = e_0^{-1}(E_0 = E_n)$\n",
        "\n",
        "ii. $i_{f_{CC}} = I_{CC}^{-1}(I_{CC} = I_n)$\n",
        "\n",
        "iii. $RCC = \\frac{i_{f_0}}{i_{f_{CC}}}$\n",
        "\n",
        "iv. $\\bar{x}_s = \\frac{\\bar{X}_s}{Z_b} = \\frac{V_n}{I_{CC}} \\frac{I_n}{V_n} = \\frac{I_n}{I_{CC}} = \\frac{i_{f_{CC}}}{i_{f_0}} = \\frac{1}{RCC}$"
      ]
    },
    {
      "cell_type": "markdown",
      "metadata": {
        "id": "yNqI2xorqWND"
      },
      "source": [
        "### Reatância de dispersão\n",
        "\n",
        "i. $\\Phi_a = \\Phi_{dr} + \\Phi_{cb} + \\Phi_{dp}$, sendo $\\Phi_a$ o fluxo disperso total e\n",
        "\n",
        "i.i. $\\Phi_{dr}$ o fluxo disperso nas ranhuras.\n",
        "\n",
        "i.ii. $\\Phi_{cb}$ o fluxo disperso nas extermidades das bobinas.\n",
        "\n",
        "i.iii. $\\Phi_{dp}$ o fluxo disperso na periferia do entreferro.\n",
        "\n",
        "ii. A dispersão não participa do confronto de campos do rotor ($B_R = B_f - B_a$).\n",
        "\n",
        "iii. Apesar de não influenciar no campo resultante, a dispersão interage com as correntes do estator, provocando uma queda de tensão reativa.\n",
        "\n",
        "iv. Dividiremos $X_s$ em $X_m$, que modela o confronto de campos no entreferro e $X_a$ que representa a dispersão.\n",
        "\n",
        "v. $E = V + j X_a I_a$"
      ]
    },
    {
      "cell_type": "markdown",
      "metadata": {
        "id": "qA9mWrr_qWNE"
      },
      "source": [
        "### Reatância síncrona saturada (exata)\n",
        "\n",
        "i. $E = V + j X_a I_a$\n",
        "\n",
        "ii. $i'_{f_0} = e'^{-1}(E)$\n",
        "\n",
        "iii. $i_{CC}(i'_{f_0}) = I'_{CC}$\n",
        "\n",
        "iv. $X'_s = \\frac{E_0}{I'_{CC}}$\n",
        "\n",
        "v. $X'_m = X'_s - X_a$\n",
        "\n",
        "vi. $i_{f_C} = e_0^{-1}(E)$\n",
        "\n",
        "vii. $k_s = \\frac{i_{f_C}}{i'_{f_0}}$\n",
        "\n",
        "viii. $X_m = \\frac{X'_m}{k_s}$\n",
        "\n",
        "ix. $X_s = X_m + X_a$\n",
        "\n",
        "x. Alternativamente, $X_s = \\frac{X'_s - X_a}{k_s} + X_a$"
      ]
    },
    {
      "cell_type": "markdown",
      "metadata": {
        "id": "sTPBVXkDqWNE"
      },
      "source": [
        "### Excitação total requerida em carga\n",
        "\n",
        "i. Traçar a reta $e$ que passa por $(0, 0)$ e $(i_{f_C}, E)$.\n",
        "\n",
        "ii. Determinar $E_0 = V + j X_s I_a$.\n",
        "\n",
        "iii. $i_{f_T} = e^{-1}(E_0)$.\n",
        "\n",
        "iv. Podemos calcular a regulação como $\\mathscr{R} = \\frac{E_{0_0} - V_n}{V_n}$, sendo $E_{0_0} = e_0(i_{f_T})$."
      ]
    },
    {
      "cell_type": "markdown",
      "metadata": {
        "id": "CYtmtEc-qWNE"
      },
      "source": [
        "### Reatância de Potier\n",
        "\n",
        "i. É preciso saber $i_{f_T (ind)}$, a corrente de excitação total quando $\\cos(\\varphi) = 0$.\n",
        "\n",
        "ii. O ponto $R$ do triângulo $PQR$ é $(i_{f_T (ind)}, V_n)$.\n",
        "\n",
        "iii. O ponto $O'$ fica em $(i_{f_T (ind)} - i_{f_{CC}}, V_n)$.\n",
        "\n",
        "iv. Traçando a reta $a-a'$ que passa por $O'$ e é paralela a $e'$, encontraremos o ponto $P$, intersecção de $a-a'$ com $e_0$.\n",
        "\n",
        "v. $P = (?, E)$ e $X_a I_a \\approx X_p I_a = E - V_n$.\n",
        "\n",
        "vi. Alternativamente, o ponto $Q$ é o ponto em que $E = V_n$ e $i_f$ é a mesma que o ponto $P$. Com isso, $\\bar{PQ} = X_p I_a \\approx X_a I_a$.\n",
        "\n",
        "vii. $X_a \\approx X_p = \\frac{\\bar{PQ}}{I_n} [\\frac{\\Omega}{fase}]$"
      ]
    },
    {
      "cell_type": "markdown",
      "metadata": {
        "id": "2z-0yo68ug5B"
      },
      "source": [
        "## Determinação das reatâncias síncronas (polos salientes)\n",
        "\n",
        "i. O entreferro é variável, logo a distribuição de $fmm$ é variável com a posição.\n",
        "\n",
        "ii. O efeito magnetizante/desmagnetizante depende da posição de $F_a$ no espaço e, portanto, de $\\cos(\\varphi)$.\n",
        "\n",
        "iii. Apenas uma reatância não é o suficiente $\\rightarrow$ decomposição de $F_a$ no eixo direto e no eixo de quadratura $(F_{a_d}, F_{a_q})$.\n",
        "\n",
        "iv. Em cada um dos eixos, a relutância magnética é constante:\n",
        "\n",
        "iv.i. $F_{a_d}$ impõe $B_{a_d} \\implies B_{a_d} = k_{ED} F_{a_d}$\n",
        "\n",
        "iv.ii. $F_{a_q}$ impõe $B_{a_q} \\implies B_{a_q} = k_{EQ} F_{a_q}$\n",
        "\n",
        "v. Além disso, $B_{a_d}$ induz $E_{a_d}$ e tem uma reatância $X_d$ associada.\n",
        "\n",
        "vi. Da mesma forma, $B_{a_q}$ induz $E_{a_q}$ e possui um $X_q$ associado.\n",
        "\n",
        "vii. $V$ é induzido por $B_R$"
      ]
    },
    {
      "cell_type": "markdown",
      "metadata": {},
      "source": [
        "### Potência e conjugado em polos salientes\n",
        "\n",
        "$\n",
        "P = V I \\cos(\\varphi) \\\\\n",
        "I \\cos(\\varphi) = I_q \\cos(\\delta) + I_d \\sin(\\delta) \\\\\n",
        "P = V (I_q \\cos(\\delta) + I_d \\sin(\\delta)) \\\\\n",
        "X_q I_q = V \\sin(\\delta) \\implies I_q = \\frac{V \\sin(\\delta)}{X_q} \\\\\n",
        "X_d I_d = E_0 - V \\cos(\\delta) \\implies I_d = \\frac{E_0 - V \\cos(\\delta)}{X_d} \\\\\n",
        "\\therefore P = \\frac{V E_0}{X_d} \\sin(\\delta) + \\frac{V^2}{2}(\\frac{1}{X_q} - \\frac{1}{X_d}) \\sin(2 \\delta) \\\\\n",
        "P_m \\approx 3 P = \\frac{3 V E_0}{X_d} \\sin(\\delta) + \\frac{3 V^2}{2}(\\frac{1}{X_q} - \\frac{1}{X_d}) \\sin(2 \\delta) \\\\\n",
        "$\n",
        "\n",
        "Sendo $\\frac{3 V E_0}{X_d} \\sin(\\delta)$ o torque de mútua e $\\frac{3 V^2}{2}(\\frac{1}{X_q} - \\frac{1}{X_d}) \\sin(2 \\delta)$ o torque de relutância."
      ]
    },
    {
      "cell_type": "markdown",
      "metadata": {},
      "source": [
        "### Determinação das reatâncias\n",
        "\n",
        "i. $X_d \\rightarrow$ a reatância de eixo direto pode ser obtida utilizando o mesmo método apresentado para a máquina de polos lisos.\n",
        "\n",
        "ii. $X_q \\rightarrow$ a reatância de eixo de quadratura é obtida colocando a máquina em uma rede trifásica e acionando-a com uma rotação um pouco diferente da rotação síncrona e sem $i_f$, o que leva a uma modulação na corrente e na tensão.\n",
        "\n",
        "iii. $X_q = \\frac{V_{min}}{I_{max}}$\n",
        "\n",
        "iv. $X_d = \\frac{V_{max}}{I_{min}}$\n",
        "\n",
        "v. $E_0 = V + j X_d I_d + j X_q I_q$\n",
        "\n",
        "vi. $E_0 \\approx E'_0 = V + j X_d I$"
      ]
    },
    {
      "cell_type": "markdown",
      "metadata": {},
      "source": [
        "## Barramento infinito\n",
        "\n",
        "i. Possui tensões $V_a$, $V_b$, $V_c$ e frequência $f$ constantes.\n",
        "\n",
        "ii. A máquina deve ser sincronizada antes de ser conectada à rede. Para isso:\n",
        "\n",
        "ii.i. $E_0 = V$, $i_f = i_{f_0}$\n",
        "\n",
        "ii.ii. $f_g = f$\n",
        "\n",
        "ii.iii. $\\alpha = 0$ e $V_s = 0$ (trifásicos superpostos).\n",
        "\n",
        "iii. A sincronização é chamada de flutuação ideal. Nessa situação:\n",
        "\n",
        "iii.i. $E_0 = V + j X_s I$. Como $E_0 - V = 0$, então $I = 0$.\n",
        "\n",
        "iii.ii. Turbina supre apenas as perdas.\n",
        "\n",
        "iii.iii. A própria máquina se sincroniza.\n",
        "\n",
        "iii.iv. A sincronização perfeita não ocorre na prática."
      ]
    },
    {
      "cell_type": "markdown",
      "metadata": {},
      "source": [
        "### Ação sincronizadora\n",
        "\n",
        "i. Aceleração transitória do rotor ($\\omega_g = \\omega + d \\omega$) leva a um avanço do indutor em relação a $B_R$. Portanto, a máquina operará como um gerador, tendo em vista que $dP = V dI \\cos(\\varphi) > 0$. O conjugado buscará desacelerar o rotor.\n",
        "\n",
        "ii. Desaceleração transitória do rotor ($\\omega_g = \\omega - d \\omega$) leva a um atraso do indutor em relação a $B_R$. Com isso, $dP = V dI \\cos(\\varphi) < 0$, ou seja, a máquina opera como motor. O conjugado buscará acelerar o rotor."
      ]
    },
    {
      "cell_type": "markdown",
      "metadata": {},
      "source": [
        "### Interações da máquina síncrona com o barramento\n",
        "\n",
        "i. $i_f > i_{f_0} \\implies$ superexcitação, $E_0 > V \\implies \\varphi = -90^{\\circ}$\n",
        "\n",
        "i.i. A corrente fornecida à rede é indutiva, ou seja, há o fornecimento de potência reativa à rede. Portanto a rede é um indutor para a máquina.\n",
        "\n",
        "i.ii. A máquina é um capacitor síncrono.\n",
        "\n",
        "ii. $i_f < i_{f_0} \\implies$ subexcitação, $E_0 < V \\implies \\varphi = 90^{\\circ}$\n",
        "\n",
        "ii.i. A corrente fornecida à rede é capacitiva, ou seja, há a absorção de potência reativa da rede. Portanto a rede é um capacitor para a máquina.\n",
        "\n",
        "ii.ii. A máquina é um indutor síncrono.\n",
        "\n",
        "iii. É evidente que a variação de $i_f$ altera a troca de reativos com a rede. Caso haja apenas troca de reativos, a máquina é denominada de compensador síncrono.\n",
        "\n",
        "iv. Injeção de potência mecânica no eixo.\n",
        "\n",
        "iv.i. $E_0$ fica adiantado em relação a $V$ e, portanto, $0^{\\circ} < \\varphi < 90^{\\circ}$, ou seja, a máquina emite potência ativa para a rede.\n",
        "\n",
        "iv.ii. O conjugado da máquina é resistente e equilibra o torque da turbina.\n",
        "\n",
        "iv.iii. A máquina opera como gerador.\n",
        "\n",
        "v. Extração de potência mecânica no eixo\n",
        "\n",
        "v.i. $E_0$ fica atrasado de $V$ e, portanto, $90^{\\circ} < \\varphi < 180^{\\circ}$, ou seja, a máquina absorve potência ativa da rede.\n",
        "\n",
        "v.ii. O conjugado no eixo é motriz e equilibra o torque exigido pela carga.\n",
        "\n",
        "v.iii. A máquina opera como motor.\n",
        "\n",
        "vi. Fica claro que o torque no eixo produz troca de potência ativa com a rede."
      ]
    },
    {
      "cell_type": "markdown",
      "metadata": {},
      "source": [
        "### Quadrantes operacionais\n",
        "\n",
        "Traçando o diagrama de fasores com a ponta do fasor $V$ no centro de coordenadas, teremos que a ponta de $j X_s I_a$ e de $E_0$ estarão em um ponto $L$. Com isso, podemos ver que $\\bar{PL} = X_s I_a \\sin(\\varphi)$ e $\\bar{QL} = E_0 sin(\\delta)$. Sabendo que $P = \\frac{V E_0}{X_s} \\sin(\\delta)$ e que $Q = V I_a \\sin(\\varphi)$, teremos que  $\\bar{PL} = \\frac{X_s}{V} Q$ e $\\bar{QL} = \\frac{X_s}{V} P$. Portanto:\n",
        "\n",
        "$\n",
        "\\bar{PL} = k Q \\\\\n",
        "\\bar{QL} = k P \\\\\n",
        "$\n",
        "\n",
        "Dessa forma, é possível ver que o eixo horizontal representa a potência ativa e a vertical, a reativa. Orientamos o eixo $P$ horizontal para a direita e $Q$, vertical para baixo. Assim:\n",
        "\n",
        "i. Quando $P > 0$ e $Q < 0$ (primeiro quadrante), temos um gerador indutivo.\n",
        "\n",
        "ii. Quando $P > 0$ e $Q > 0$ (segundo quadrante), temos um gerador capacitivo.\n",
        "\n",
        "iii. Quando $P < 0$ e $Q < 0$ (terceiro quadrante), temos um motor indutivo.\n",
        "\n",
        "iv. Quando $P < 0$ e $Q > 0$ (quarto quadrante), temos um motor capacitivo."
      ]
    },
    {
      "cell_type": "markdown",
      "metadata": {},
      "source": [
        "### Curva V\n",
        "\n",
        "Quando $P = cte$, teremos que a ponta de $E_0$ e de $j X_s I_a$ estarão em uma reta vertical e a ponta de $I$ estará em uma reta horizontal. Traçando $I \\times i_f$, teremos a curva V."
      ]
    },
    {
      "cell_type": "markdown",
      "metadata": {},
      "source": [
        "## Limites operacionais"
      ]
    },
    {
      "cell_type": "markdown",
      "metadata": {},
      "source": [
        "### Margem de estabilidade\n",
        "\n",
        "Sabemos que $P = \\frac{V E_0}{X_s} \\sin(\\delta)$ e que $C = \\frac{3 V E_0}{\\omega_s X_s} \\sin(\\delta)$.\n",
        "\n",
        "É fácil ver que $P_{max} = P(\\delta = 90^{\\circ})$ e $C_{max} = C(\\delta = 90^{\\circ})$. Nessa situação, o torque fornecido pela turbina ($C_{turbina}$) deverá ser máximo e igual a $C_{max}$. Se fizermos $\\delta > 90^{\\circ}$, teremos um torque $C < C_{max}$, porém o torque fornecido pela turbina ainda será (máximo??? ou algo do tipo??? o importante é que $C_{turbina} > C$). Dessa forma, o gerador não consegue resistir e o rotor passa a acelerar. O ângulo $\\delta$ passa a variar no tempo e $\\omega > \\omega_s$. O sincronismo com o barramento é perdido e a máquina dispara.\n",
        "\n",
        "Quando a máquina encontra-se em um $\\delta$ seguro e sofre uma perturbação $\\pm d \\delta$, temos uma variação $dP = P' - P$, sendo\n",
        "\n",
        "$\n",
        "P = \\frac{V E_0}{X_s} \\sin(\\delta) \\\\\n",
        "P' = \\frac{V E_0}{X_s} \\sin(\\delta \\pm d \\delta) \\\\\n",
        "$\n",
        "\n",
        "Logo,\n",
        "\n",
        "$\n",
        "dP = \\frac{V E_0}{X_s} (\\sin(\\delta \\pm d \\delta) + \\sin(\\delta)) \\approx \\pm \\frac{V E_0}{X_s} \\cos(\\delta) d \\delta \\\\\n",
        "$\n",
        "\n",
        "Portanto\n",
        "\n",
        "$\n",
        "dC = \\frac{3 V E_0}{\\omega_s X_s} \\cos(\\delta) d \\delta \\\\\n",
        "$\n",
        "\n",
        "Temos, portanto, um comportamento análogo a um pêndulo de torção que segue $C = k_{\\theta} \\delta$, sendo $k_{\\theta}$ a rigidez de acoplamento. Nesse caso\n",
        "\n",
        "$\n",
        "k_{\\theta - eq} = \\frac{dC}{d \\delta} = \\frac{3 V E_0}{\\omega_s X_s} \\cos(\\delta) \\\\\n",
        "$\n",
        "\n",
        "Percebe-se, nessa equação, que a constante elástica da mola equivalente é máxima quando $\\delta = 0^{\\circ}$ e nula quando atinge o limite de estabilidade ($\\delta = 90^{\\circ}$), o que condiz com o comportamento da máquina de não conseguir segurar o torque da turbina quando $\\delta > 90^{\\circ}$.\n",
        "\n",
        "Além disso, como qualquer sistema pendular, temos um período de oscilação dado por\n",
        "\n",
        "$\n",
        "T = 2 \\pi \\sqrt{\\frac{J}{k_{\\theta - eq}}} \\\\\n",
        "T = 2 \\pi \\sqrt{\\frac{J \\omega_s X_s}{3 V E_0 \\cos(\\delta)}} \\approx 2 \\pi \\sqrt{k \\frac{J}{E_0}} \\\\\n",
        "$\n",
        "\n",
        "Dessa equação, é possível ver que o aumento em $i_f$ leva a um consequente aumento na estabilidade do sistema por meio do aumento da rigidez da mola ($\\uparrow i_f \\implies \\uparrow E_0$).\n",
        "\n",
        "Além disso, para aumento da estabilidade, são colocadas barras maciças em curto dentro do rotor. Quando há oscilações de velocidade $dv$, temos que\n",
        "\n",
        "$\n",
        "de = L (d \\vec{v} \\times \\vec{B}_R) \\\\\n",
        "di = \\frac{de}{Z_{barra}} \\\\\n",
        "$\n",
        "\n",
        "Como há correntes circulantes, teremos uma força (e portanto um torque) que irá se opor às oscilações, dada por\n",
        "\n",
        "$\n",
        "d \\vec{F} = di (\\vec{L} \\times \\vec{B}_R) \\\\\n",
        "\\therefore d \\vec{C} = \\sum R \\cdot d \\vec{F} \\\\\n",
        "$"
      ]
    },
    {
      "cell_type": "markdown",
      "metadata": {},
      "source": [
        "### Diagrama de capabilidade\n",
        "\n",
        "Temos mais alguns limites:\n",
        "\n",
        "i. Limite da corrente de carga (potência aparente) do estator $\\rightarrow$ não podemos derreter as bobinas do estator (limite térmico do estator).\n",
        "\n",
        "ii. Limite de $i_f$ (potência reativa) no rotor $\\rightarrow$ não podemos derreter as bobinas do rotor (limite térmico do rotor).\n",
        "\n",
        "iii. Limite da potência mecânica (potência ativa) disponível na turbina $\\rightarrow$ limite mecânico.\n",
        "\n",
        "Além desses, existe a já mencionada margem de estabilidade.\n",
        "\n",
        "Para traçar o diagrama, fazemos o diagrama de fasores com $V$, $I_n$ e $E_{0 n}$, ou seja, com os valores nominais. Sem alterar o módulo dos fasores, podemos traçar circunferências com centro em $O'$ (ponto de início de $V$, $I_n$ e $E_{0 n}$).\n",
        "\n",
        "A circunferência descrita por $E_{0 n}$ é o limite de excitação (limite térmico do rotor).\n",
        "\n",
        "A circunferência descrita por $j X_s I_n$ é o limite de corrente do estator (limite térmico do estator).\n",
        "\n",
        "A reta vertical que passa por $P_n$ é o limite da potência ativa (limite da turbina).\n",
        "\n",
        "O limite de estabilidade seria uma reta horizontal passando por $O'$, mas na prática ela é uma curva com margem de segurança $10 \\% P_n$ ou até uma reta com $10^{\\circ}$ de inclinação para baixo de $\\delta = 90^{\\circ}$.\n",
        "\n",
        "Atender a todas essas condições significa respeitar os limites operacionais da máquina. "
      ]
    }
  ],
  "metadata": {
    "colab": {
      "provenance": []
    },
    "kernelspec": {
      "display_name": "Python 3",
      "name": "python3"
    },
    "language_info": {
      "name": "python",
      "version": "3.12.3"
    }
  },
  "nbformat": 4,
  "nbformat_minor": 0
}
