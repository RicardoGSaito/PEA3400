{
  "cells": [
    {
      "cell_type": "markdown",
      "metadata": {
        "id": "egIlWRNYMlma"
      },
      "source": [
        "# Máquinas Síncronas"
      ]
    },
    {
      "cell_type": "markdown",
      "metadata": {
        "id": "e7CTsmKxMHQK"
      },
      "source": [
        "## Introdução"
      ]
    },
    {
      "cell_type": "markdown",
      "metadata": {
        "id": "L3SNxncMMsWS"
      },
      "source": [
        "### Operações\n",
        "\n",
        "i. Motor $\\rightarrow$ Grande potência.\n",
        "\n",
        "ii. Gerador $\\rightarrow$ Modo mais comum, alternador síncrono trifásico."
      ]
    },
    {
      "cell_type": "markdown",
      "metadata": {
        "id": "Frr9bEDrMHQM"
      },
      "source": [
        "### Topologia do circuito magnético\n",
        "\n",
        "i. Polos salientes $\\rightarrow$\n",
        "\n",
        "i.i. Muitos polos, baixa rotação e alta potência. $\\frac{D}{L} >> 1$ (eixo vertical)\n",
        "\n",
        "i.ii. Poucos polos, rotações médias, potências baixas a médias.\n",
        "\n",
        "ii. Polos lisos $\\rightarrow$\n",
        "\n",
        "ii.i. Número bastante reduzido de polos, elevada rotação, potências elevadas. $\\frac{D}{L} << 1$ (eixo horizontal)"
      ]
    },
    {
      "cell_type": "markdown",
      "metadata": {
        "id": "yBleKcndMHQN"
      },
      "source": [
        "### Aspectos construtivos\n",
        "\n",
        "i. Estator (induzido) $\\rightarrow$\n",
        "\n",
        "i.i. Cilindro com ranhuras para alojar bobinas.\n",
        "\n",
        "i.ii. Núcleo feito de material ferromagnético de alta permeabilidade.\n",
        "\n",
        "i.iii. Bobinas alojadas em cada ranhura.\n",
        "\n",
        "ii. Rotor (indutor) $\\rightarrow$\n",
        "\n",
        "ii.i. Polos salientes $\\rightarrow$\n",
        "\n",
        "ii.i.i. Enrolamento de excitação (bobina com corrente CC para gerar um campo magnético).\n",
        "\n",
        "ii.i.ii. Peças polares engastadas em uma roda polar no caso de vários polos.\n",
        "\n",
        "ii.ii. Polos lisos $\\rightarrow$\n",
        "\n",
        "ii.ii.i. A mesma coisa, só que sem as peças polares."
      ]
    },
    {
      "cell_type": "markdown",
      "metadata": {
        "id": "hjHFakmf1fko"
      },
      "source": [
        "## Operação em vazio\n",
        "\n",
        "i. As bobinas são alimentadas com corrente CC, a corrente de excitação $i_f$.\n",
        "\n",
        "ii. A força gerada por ela ($fmm = N \\cdot i_f$) cria uma distribuição de campo magnético senoidal.\n",
        "\n",
        "iii. Quando o rotor é girado, o campo gira junto.\n",
        "\n",
        "iv. As bobinas do estator vêem um campo variável no tempo e Lei de Faraday."
      ]
    },
    {
      "cell_type": "markdown",
      "metadata": {
        "id": "T88HgwhfMHQP"
      },
      "source": [
        "### Formação do campo magnético cossenoidal (polos salientes)\n",
        "\n",
        "Antes de falar disso, vamos definir ângulo elétrico:\n",
        "\n",
        "$\\theta = p \\cdot \\theta_g$\n",
        "\n",
        "Em que $p$ é o número de pares de polos. Pronto.\n",
        "\n",
        "$\n",
        "fmm = N \\cdot i_f \\\\\n",
        "\\mathscr{R}_g(\\theta) = \\frac{l_g(\\theta)}{\\mu_0 S_p} \\\\\n",
        "$\n",
        "\n",
        "Sendo $S_p = \\tau_p L$ a superfície polar e $\\tau_p = \\frac{\\pi D}{2p}$ o passo polar.\n",
        "\n",
        "Já o fluxo magnetico será dado por\n",
        "\n",
        "$\n",
        "\\Phi = \\frac{fmm}{\\mathscr{R}_g(\\theta)} = \\frac{N \\cdot i_f \\mu_0 S_p}{l_g(\\theta)} \\\\\n",
        "\\Phi = B_g(\\theta) S_p \\\\\n",
        "\\therefore B_g(\\theta) = \\frac{N \\cdot i_f \\mu_0}{l_g(\\theta)} \\\\\n",
        "$\n",
        "\n",
        "Para que $B_g(\\theta)$ seja siga uma distribuição cossenoidal, é preciso que $l_g(\\theta) = \\frac{l_{g0}}{\\cos(\\theta)}$. Nesse caso, teremos\n",
        "\n",
        "$\n",
        "B_g(\\theta) = \\frac{N \\cdot i_f \\mu_0}{l_{g0}} \\cos(\\theta) \\\\\n",
        "B_g(\\theta) = B_{g_{max}} \\cos(\\theta) \\\\\n",
        "$\n",
        "\n",
        "Observe que $B_{g_{max}} = f(i_f)$"
      ]
    },
    {
      "cell_type": "markdown",
      "metadata": {
        "id": "hEUkIGFqMHQP"
      },
      "source": [
        "### Formação do campo magnético cossenoidal (polos lisos)\n",
        "\n",
        "Esse caso é parecido com o outro, com algumas diferenças:\n",
        "\n",
        "i. A mais óbvia é que a relutância é constante ($l_g = cte$).\n",
        "\n",
        "ii. Por algum motivo $N = N(\\theta)$\n",
        "\n",
        "Seguindo os mesmos passos para o caso de polos salientes, teremos que\n",
        "\n",
        "$\n",
        "fmm = N(\\theta) \\cdot i_f \\\\\n",
        "\\mathscr{R}_g = \\frac{l_g}{\\mu_0 S_p} = cte \\\\\n",
        "$\n",
        "\n",
        "Novamente, $S_p = \\tau_p L$ é a superfície polar e $\\tau_p = \\frac{\\pi D}{2p}$ é o passo polar.\n",
        "\n",
        "Já o fluxo magnético será dado por\n",
        "\n",
        "$\n",
        "\\Phi = \\frac{fmm}{\\mathscr{R}_g} = \\frac{N(\\theta) \\cdot i_f \\mu_0 S_p}{l_g} \\\\\n",
        "\\Phi = B_g(\\theta) S_p \\\\\n",
        "\\therefore B_g(\\theta) = \\frac{N(\\theta) \\cdot i_f \\mu_0}{l_g} \\\\\n",
        "$\n",
        "\n",
        "Para que $B_g(\\theta)$ seja siga uma distribuição cossenoidal, é preciso que $N(\\theta) = N \\cos(\\theta)$. Nesse caso, teremos\n",
        "\n",
        "$\n",
        "B_g(\\theta) = \\frac{N \\cdot i_f \\mu_0}{l_g} \\cos(\\theta) \\\\\n",
        "B_g(\\theta) = B_{g_{max}} \\cos(\\theta) \\\\\n",
        "$\n",
        "\n",
        "Observe, novamente, que $B_{g_{max}} = f(i_f)$"
      ]
    },
    {
      "cell_type": "markdown",
      "metadata": {
        "id": "WXsA-pSdMHQQ"
      },
      "source": [
        "### Geração de tensão na máquina síncrona\n",
        "\n",
        "Efeito mocional:\n",
        "\n",
        "$de = d \\vec{L} \\cdot \\vec{v} \\times \\vec{B_g} \\implies e = B_g L v$\n",
        "\n",
        "Além disso, utilizando o fato de que $\\frac{d \\theta}{dt} = p \\frac{d \\theta_g}{dt}$, chegamos à conclusão que $\\omega = p 2 \\pi n_s$\n",
        "\n",
        "Obviamente, as pontas das bobinas encontram-se na parte mais periférica, logo a velocidade será $v_s = \\pi D n_s$\n",
        "\n",
        "Com isso, a tensão induzida nas pontas de cada fio da bobina será:\n",
        "\n",
        "$e_c = B_g L v_s$\n",
        "\n",
        "Portanto, a tensão induzida em cada bobina será:\n",
        "\n",
        "$\n",
        "E = 2 N e_c = 2 N B_g L v_s \\\\\n",
        "E = E(\\theta) = (2 N B_{g_{max}} L v_s) \\cos(\\theta) \\\\\n",
        "\\therefore E(\\theta) = E_{max} \\cos(\\theta) \\\\\n",
        "$\n",
        "\n",
        "Sendo $E_{max} = 2 N B_{g_{max}} L \\pi D n_s$\n",
        "\n",
        "Um detalhe é que $E(\\omega t) \\leftrightarrow B(\\theta) \\implies E(\\omega t) = E(\\theta)$, ou seja, a distribuição do campo magnético no espaço determina o formato da tensão no tempo.\n",
        "\n",
        "Além disso, a tensão será máxima quando as duas pontas da bobina tiverem $B_{g_{max}}$, ou seja, quando $B(\\theta)$ estiver a $90^{\\circ}$ do eixo da bobina. Portanto\n",
        "\n",
        "$\n",
        "E(\\omega t) = E(\\frac{\\pi}{2} - \\theta) \\\\\n",
        "E(\\omega t) = (2 N B_{g_{max}} L \\pi D n_s) \\sin(\\omega t) \\\\\n",
        "$\n",
        "\n",
        "Além disso, é evidente que\n",
        "\n",
        "$\n",
        "E_{max} = 2 N B_{g_{max}} L \\pi D L n_s \\\\\n",
        "E = \\frac{E_{max}}{\\sqrt{2}} \\\\\n",
        "$\n",
        "\n",
        "Levando em conta que $n_s = \\frac{f}{p}$, que $B_{g_{max}} = \\frac{\\pi}{2} B_{g_{med}}$ e que o fluxo por polo é dado por $\\Phi_p = B_{g_{med}} S_p$, teremos\n",
        "\n",
        "$\n",
        "E = \\frac{2 N B_{g_{max}} \\pi D L n_s}{\\sqrt{2}} \\\\\n",
        "E = \\frac{\\pi}{2} \\frac{f}{p} \\frac{2 N B_{g_{med}} \\pi D L}{\\sqrt{2}} \\\\\n",
        "E = \\sqrt{2} \\pi f N \\Phi_p \\\\\n",
        "$\n",
        "\n",
        "Com $S_p = \\frac{\\pi D L}{2 p}$ sendo a superfície polar. Lembrando que isso é para uma única bobina."
      ]
    },
    {
      "cell_type": "markdown",
      "metadata": {
        "id": "MECa-61rMHQS"
      },
      "source": [
        "### Influência da excitação\n",
        "\n",
        "Lembrando que $B = f(i_f)$, e que $E = f(B)$, fica claro que $E = f(i_f)$.\n",
        "\n",
        "Podemos, em um gráfico $E \\times i_f$, traçar as curvas de entreferro (curva $e'$) e a característica de magnetização (curva $e_0$).\n",
        "\n",
        "Feito isso, para uma tensão $E_0$, podemos obter dois valores de $i_f$: uma da curva de entreferro, $i'_{f 0}$ e uma da característica de magnetização $i_{f 0}$.\n",
        "\n",
        "O fator de saturação $K_s$ será $K_s = \\frac{i_{f 0}}{i'_{f 0}}$"
      ]
    },
    {
      "cell_type": "markdown",
      "metadata": {
        "id": "JmXM5Je4MHQS"
      },
      "source": [
        "### Conteúdo harmônico\n",
        "\n",
        "A distribuição de induções não é perfeitamente senoidal, logo $B(\\theta) = B_1 \\cos(\\theta) + B_3 \\cos(3 \\theta) + B_5 \\cos(5 \\theta) + ... + B_h \\cos(h \\theta)$\n",
        "\n",
        "Dada uma máquina síncrona de $S$ ranhuras no estator, $2 p$ pares de polos e $m$ fases podemos resolver isso, basta realizar:\n",
        "\n",
        "i. Distribuição do enrolamento $\\rightarrow$ Dividir um enrolamento de $N$ espiras em $q$ enrolamentos de $\\frac{N}{q}$ espiras. O fator de distribuição é dado por:\n",
        "\n",
        "$\n",
        "k_{D h} = \\frac{\\sin{q h \\frac{\\Delta}{2}}}{q \\sin{h \\frac{\\Delta}{2}}} \\\\\n",
        "$\n",
        "\n",
        "Com $q = \\frac{S}{2 p m}$ e $\\Delta = \\frac{360^{\\circ} p}{S}$\n",
        "\n",
        "ii. Encurtamento de passo $\\rightarrow$ Colocar o enrolamento algumas ranhuras antes do comprimento de passo pleno. O fator de corda é:\n",
        "\n",
        "$\n",
        "k_{C h} = \\cos(h \\frac{\\delta}{2}) \\\\\n",
        "$\n",
        "\n",
        "Sendo $\\delta = n \\Delta$, $n \\in \\mathbb{N}$\n",
        "\n",
        "Juntando as duas atenuações, teremos o fator de enrolamento:\n",
        "\n",
        "$\n",
        "k_{E h} = k_{D h} \\cdot k_{C h} \\\\\n",
        "$\n",
        "\n",
        "E o conteúdo harmônico é dado por:\n",
        "\n",
        "$\n",
        "v_h = \\frac{\\sum_{h = 3}^{\\infty} E_h k_{E h}}{E_1} = \\sum_{h = 3}^{\\infty} \\frac{k_{E h}}{h} \\\\\n",
        "$"
      ]
    },
    {
      "cell_type": "markdown",
      "metadata": {
        "id": "u0xeIs-OMHQT"
      },
      "source": [
        "## Operação em carga\n",
        "\n",
        "Dada uma máquina tal que\n",
        "\n",
        "$\n",
        "E_a = E_M \\cos(\\omega t) \\\\\n",
        "E_b = E_M \\cos(\\omega t - 120^{\\circ}) \\\\\n",
        "E_c = E_M \\cos(\\omega t - 240^{\\circ}) \\\\\n",
        "$\n",
        "\n",
        "Conectada a uma carga trifásica, teremos\n",
        "\n",
        "$\n",
        "I_a = I_M \\cos(\\omega t - \\varphi) \\\\\n",
        "I_b = I_M \\cos(\\omega t - \\varphi - 120^{\\circ}) \\\\\n",
        "I_c = I_M \\cos(\\omega t - \\varphi - 240^{\\circ}) \\\\\n",
        "$"
      ]
    },
    {
      "cell_type": "markdown",
      "source": [
        "### Reação de armadura\n",
        "\n",
        "Sendo $I_M = \\frac{E_M}{Z_c}$. Essas correntes, ao circularem pelo estator, produzirão suas próprias disrtibuições de campo magnético, a reação de armadura.\n",
        "\n",
        "Cada reação de armadura fica centrada na eixo da fase.\n",
        "\n",
        "Cada uma das distribuições é fixa no espaço e variável no tempo.\n",
        "\n",
        "$\n",
        "F_a = F_a(t) \\cos(\\theta) \\\\\n",
        "F_b = F_b(t) \\cos(\\theta - 120^{\\circ}) \\\\\n",
        "F_c = F_c(t) \\cos(\\theta - 240^{\\circ}) \\\\\n",
        "$\n",
        "\n",
        "Sendo\n",
        "\n",
        "$\n",
        "F_a(t) = N I_M \\cos(\\omega t - \\varphi) = F_M \\cos(\\omega t - \\varphi) \\\\\n",
        "F_b(t) = N I_M \\cos(\\omega t - \\varphi - 120^{\\circ}) = F_M \\cos(\\omega t - \\varphi - 120^{\\circ}) \\\\\n",
        "F_c(t) = N I_M \\cos(\\omega t - \\varphi - 240^{\\circ}) = F_M \\cos(\\omega t - \\varphi - 240^{\\circ})\\\\\n",
        "$\n",
        "\n",
        "Utilizando mágica, podemos provar que $F_{res} = F_a + F_b + F_c = \\frac{3}{2} F_M \\cos(\\theta - \\omega t)$\n",
        "\n",
        "Esse campo resultante tem amplitude constante e é móvel no espaço (rotativo no entreferro).\n",
        "\n",
        "Isso resulta em duas distribuições de campo magnético com a mesma velocidade angular $\\omega_s$ dentro da máquina: a produzida pela corrente de excitação $i_f$ e aquela produzida pela reação de armadura. A soma das duas produz um campo resultante líquido.\n",
        "\n",
        "A seguir, analisaremos o campo resultante de acordo com o fator de potência da carga:\n",
        "\n",
        "i. Puramente indutivo $\\rightarrow$ A reação de armadura $B_a$ é antagônica à distribuição do rotor $B_F$.\n",
        "\n",
        "i.i. O campo resultante será $B_R = B_F - B_a < B_F$.\n",
        "\n",
        "i.ii. O efeito é desmagnetizante.\n",
        "\n",
        "i.iii. A tensão em carga $V$ é menor que a tensão em vazio $E_0$.\n",
        "\n",
        "ii. Puramente capacitivo $\\rightarrow$ $B_a$ é concordante com $B_F$.\n",
        "\n",
        "ii.i. $B_R = B_F + B_a > B_F$\n",
        "\n",
        "ii.ii. Efeito magnetizante.\n",
        "\n",
        "ii.iii. $V > E_0$."
      ],
      "metadata": {
        "id": "dybYpBuiSBtt"
      }
    },
    {
      "cell_type": "markdown",
      "source": [
        "### Circuito equivalente\n",
        "\n",
        "O comportamento descrito anteriormente pode ser modelado por uma reatância indutiva $X_s$, conhecida como reatância síncrona. A equação que descreve o circuito equivalente da máquina síncrona é:\n",
        "\n",
        "$\n",
        "\\dot{E_0} = \\dot{V} + j X_s \\dot{I}_a \\\\\n",
        "$\n",
        "\n",
        "Com $\\dot{E}_0$ sendo a fonte equivalente do enrolamento de uma das fases e $\\dot{E}_a = j X_s \\dot{I}_a$ a queda de tensão na reatância síncrona.\n",
        "\n",
        "Além disso, temos dois ângulos importantes: $\\varphi$ entre $\\dot{V}$ e $\\dot{I}$, o ângulo do fator de potência e $\\delta$ entre $\\dot{E}_0$ e $V$, o ângulo de potência."
      ],
      "metadata": {
        "id": "iAF8_21TSf_J"
      }
    }
  ],
  "metadata": {
    "colab": {
      "provenance": []
    },
    "kernelspec": {
      "display_name": "Python 3",
      "name": "python3"
    },
    "language_info": {
      "name": "python",
      "version": "3.12.3"
    }
  },
  "nbformat": 4,
  "nbformat_minor": 0
}